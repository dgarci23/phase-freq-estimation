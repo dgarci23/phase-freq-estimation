{
 "cells": [
  {
   "cell_type": "markdown",
   "id": "bc35bd05",
   "metadata": {},
   "source": [
    "# Final Project"
   ]
  },
  {
   "cell_type": "markdown",
   "id": "f174d09f",
   "metadata": {},
   "source": [
    "## Introduction\n",
    "\n",
    "### Group Members:\n",
    "#### David Garcia Gonzalez (dgarci23@nd.edu) || Alex Kaup (akaup@nd.edu)\n",
    "\n",
    "### Project Overview\n",
    "\n",
    "This project is focused on improving three key aspects of the system we use in lab. Those aspects are improving the accuracy of the Carrier Frequency Offset (CFO) estimation without increasing too much the computational complexity, increasing the Carrier Phase Offset (CPO) by moving to a decision-based CPO estimation for QPSK signals and finally changing the packet preamble from a OOK preamble to a complex-valued preamble using the Zadoff-Chu sequence.\n",
    "\n",
    "Each aspect has a dedicated section in which we cover the motivation behind our work, what we did to achieve that improvement and what are some things we could do to make it even better as well as addressing some of the limitations of our new system."
   ]
  },
  {
   "cell_type": "markdown",
   "id": "f559a06e",
   "metadata": {},
   "source": [
    "## Carrier Frequency Offset (CFO) Estimation\n",
    "\n",
    "### Motivation\n",
    "\n",
    "On Lab 08, we used the FFT of a known preamble to estimate the Carrier Frequency Offset (CFO) in our system. The frequency offset is a small difference between the receiver and transmitter carrier frequencies that introduces distortion to our system and decreases our detection ability.\n",
    "\n",
    "The accuracy of our estimation depends on the length of the preamble and the length of the FFT we perform at the receiver. To increase accuracy, we could increase the length of the FFT to get more resolution across the entire spectrum. This method is computationally expensive, since we only care about the resolution of the FFT in a determined band (around the peak frequencies) and increasing the length of the FFT spends time and resources computing the FFT in frequency bands we are not interested in. In order to increase accuracy without sacrificing too much computation time, we can do the following two step method.\n",
    "\n",
    "First, we will take a coarse FFT (with a length of around 200). This will give us an estimate on where the peak frequency is located in our band. With this frequency, we perform a Zoom FFT in the surrounding frequencies. Using this we increase the accuracy, but only on the frequency set we are interested in since the Zoom FFT focuses on a sub-band of the entire frequency spectrum."
   ]
  },
  {
   "cell_type": "code",
   "execution_count": 3,
   "id": "a0786e66",
   "metadata": {},
   "outputs": [],
   "source": [
    "# Import Libraries\n",
    "import numpy as np\n",
    "from scipy import signal\n",
    "import pyfftw\n",
    "import scipy.fftpack\n",
    "import matplotlib.pyplot as plt\n",
    "import pulse_shaping\n",
    "import symbol_mod\n",
    "import time\n",
    "from scipy.signal import ZoomFFT"
   ]
  },
  {
   "cell_type": "markdown",
   "id": "719e18fa",
   "metadata": {},
   "source": [
    "### Parameters"
   ]
  },
  {
   "cell_type": "code",
   "execution_count": 4,
   "id": "c27f274f",
   "metadata": {},
   "outputs": [],
   "source": [
    "#Number of data bits\n",
    "N = 10000\n",
    "#Sampling frequency\n",
    "fs = 1000000\n",
    "Ts = 1/fs\n",
    "#Samples per symbol\n",
    "M = 8\n",
    "# Length of FFT\n",
    "full_L = 1000\n",
    "# Length of zoom FFT approach [lenght of full FFT, length of zoom FFT]\n",
    "comb_L = [100, 100]"
   ]
  },
  {
   "cell_type": "markdown",
   "id": "2c622fe8",
   "metadata": {},
   "source": [
    "### Creating the signal\n",
    "\n",
    "We will use the preamble_generator below that was used in Lab 08 to generate the preamble. It will be a sequency of 200 bits. For the signal of interest, we create a random binary signal and add the preamble to the front of it. We use QPSK modulation and root raised cosine for the modulation. This gives us our signal of interest at baseband."
   ]
  },
  {
   "cell_type": "code",
   "execution_count": 5,
   "id": "d40161c3",
   "metadata": {},
   "outputs": [],
   "source": [
    "# This preamble generator was provided in Lab 08\n",
    "def preamble_generator(): \n",
    "\n",
    "        preamble = np.array([1,0,1,0])\n",
    "        preamble = np.append(preamble, np.ones(6))                    \n",
    "        preamble = np.append(preamble, np.zeros(10))   \n",
    "        preamble = np.append(preamble, np.ones(180))\n",
    "        \n",
    "        return preamble"
   ]
  },
  {
   "cell_type": "code",
   "execution_count": 6,
   "id": "f14e8359",
   "metadata": {},
   "outputs": [],
   "source": [
    "# Generate ideal baseband signal\n",
    "def generate_baseband(N, fs, M):\n",
    "    Bits = np.random.randint(0,2,N)  #random data\n",
    "    preamble = preamble_generator()  \n",
    "    packet_bits = np.append(preamble, Bits)\n",
    "    preamble_length = len(preamble)\n",
    "    baseband_symbols = symbol_mod.symbol_mod(packet_bits, 'QPSK', preamble_length)\n",
    "    pulse_shape = 'rrc'\n",
    "    baseband = pulse_shaping.pulse_shaping(baseband_symbols, M, fs, pulse_shape, 0.9, 8)\n",
    "    \n",
    "    return baseband, preamble"
   ]
  },
  {
   "cell_type": "code",
   "execution_count": 7,
   "id": "924afc42",
   "metadata": {},
   "outputs": [],
   "source": [
    "baseband, preamble = generate_baseband(N, fs, M)"
   ]
  },
  {
   "cell_type": "markdown",
   "id": "57bf7c85",
   "metadata": {},
   "source": [
    "### Frequency offset generation\n",
    "\n",
    "To simulate the effects of the channel, we treat the frequency offset as a uniform random variable from -0.01 to 0.01 of the sampling frequency. We create the offset by multiplying our signal by a complex exponential."
   ]
  },
  {
   "cell_type": "code",
   "execution_count": 8,
   "id": "c0cfdfd8",
   "metadata": {},
   "outputs": [],
   "source": [
    "def generate_baseband_offset(baseband, fs=fs):\n",
    "    # Generate the frequency offset\n",
    "    frequency_offset = np.random.uniform(-0.01*fs,0.01*fs)\n",
    "    Ts = 1/fs\n",
    "    t =  np.arange(0,len(baseband)*Ts,Ts)\n",
    "    nonideal_term = np.exp(1j*2*np.pi*frequency_offset*t)\n",
    "    baseband_with_frequency_offset = np.multiply(baseband,nonideal_term)\n",
    "    \n",
    "    return baseband_with_frequency_offset, frequency_offset"
   ]
  },
  {
   "cell_type": "code",
   "execution_count": 9,
   "id": "dd582d47",
   "metadata": {
    "scrolled": false
   },
   "outputs": [
    {
     "name": "stdout",
     "output_type": "stream",
     "text": [
      "Frequency offset: 6415 Hz\n"
     ]
    }
   ],
   "source": [
    "baseband_offset, offset = generate_baseband_offset(baseband, fs)\n",
    "preamble_offset = baseband_offset[0:len(preamble)]\n",
    "\n",
    "print(\"Frequency offset: {:.0f} Hz\".format(offset))"
   ]
  },
  {
   "cell_type": "markdown",
   "id": "4851c0b4",
   "metadata": {},
   "source": [
    "# Frequency Estimation: Full FFT and Zoom FFT"
   ]
  },
  {
   "cell_type": "markdown",
   "id": "b0e93623",
   "metadata": {},
   "source": [
    "#### Full FFT Method\n",
    "\n",
    "The Full FFT method was covered in Lab 08, and it consists of taking the FFT of the preamble with the frequency offset. We then find the frequency corresponding to the peak of the FFT and that is the frequency offset. "
   ]
  },
  {
   "cell_type": "code",
   "execution_count": 10,
   "id": "9ea3c2c6",
   "metadata": {},
   "outputs": [],
   "source": [
    "def fft_baseband_offset(baseband, fs=fs, L=full_L):\n",
    "    # FFT\n",
    "    spectrum = np.abs(np.fft.fft(baseband, L))\n",
    "    spectrum = np.fft.fftshift(spectrum)\n",
    "    # Return max point\n",
    "    peak = np.argmax(spectrum)\n",
    "    offset = (peak - L/2)/L * fs\n",
    "    \n",
    "    return spectrum, offset"
   ]
  },
  {
   "cell_type": "code",
   "execution_count": 11,
   "id": "561f77da",
   "metadata": {
    "scrolled": true
   },
   "outputs": [
    {
     "name": "stdout",
     "output_type": "stream",
     "text": [
      "Real frequency offset: 6415 Hz\n",
      "Calculated frequency offset with full FFT: 6000 Hz\n"
     ]
    },
    {
     "data": {
      "image/png": "[encoded data removed]",
      "text/plain": [
       "<Figure size 432x288 with 1 Axes>"
      ]
     },
     "metadata": {
      "needs_background": "light"
     },
     "output_type": "display_data"
    }
   ],
   "source": [
    "spectrum_offset_full, offset_full = fft_baseband_offset(preamble_offset, fs, full_L)\n",
    "\n",
    "print(\"Real frequency offset: {:.0f} Hz\".format(offset))\n",
    "print(\"Calculated frequency offset with full FFT: {:.0f} Hz\".format(offset_full))\n",
    "\n",
    "\n",
    "plt.plot(np.linspace(-fs/2000, fs/2000, full_L), np.abs(spectrum_offset_full))\n",
    "plt.scatter([offset_full/1000], [np.max(spectrum_offset_full)],c='r', label=\"Real Freq Offset\")\n",
    "plt.xlabel(\"Freq (kHz)\")\n",
    "plt.ylabel(\"Amplitude of FFT\")\n",
    "plt.title(\"Full FFT for Preamble\")\n",
    "plt.legend(loc=\"upper right\")\n",
    "plt.show()"
   ]
  },
  {
   "cell_type": "markdown",
   "id": "219ca0aa",
   "metadata": {},
   "source": [
    "#### Combined Zoom FFT Method\n",
    "\n",
    "The combined Zoom FFT Method uses both a full FFT and a Zoom FFT. After the full FFT identifies the peak point, the Zoom FFT does a FFT around that frequency. The range of frequencies for the Zoom FFT depends on the length of the full FFT. "
   ]
  },
  {
   "cell_type": "code",
   "execution_count": 12,
   "id": "861f0b69",
   "metadata": {},
   "outputs": [],
   "source": [
    "def zoomfft_baseband_offset(baseband, fs, M, L):\n",
    "    transform = ZoomFFT(len(baseband), [-fs/(2*M), fs/(2*M)], L, fs=fs)\n",
    "    spectrum = np.abs(transform(baseband))\n",
    "    \n",
    "    peak = np.argmax(spectrum)\n",
    "    offset = (peak*fs) / ((L-1)*M) - fs/(2*M)\n",
    "    \n",
    "    return spectrum, offset\n",
    "\n",
    "def zoomfft_baseband_offset_bounds(baseband, fs, bottom, top, L):\n",
    "    transform = ZoomFFT(len(baseband), [bottom, top], L, fs=fs)\n",
    "    spectrum = np.abs(transform(baseband))\n",
    "    \n",
    "    peak = np.argmax(spectrum)\n",
    "    offset = (top - bottom)*peak/(L-1) + bottom\n",
    "    \n",
    "    return spectrum, offset"
   ]
  },
  {
   "cell_type": "code",
   "execution_count": 13,
   "id": "2fa5f6af",
   "metadata": {},
   "outputs": [],
   "source": [
    "def combined_baseband_offset(baseband, fs, L):\n",
    "    _, freq_est = fft_baseband_offset(baseband, fs, L[0])\n",
    "    spectrum_offset_zoom, offset_zoom = zoomfft_baseband_offset_bounds(baseband, fs, freq_est-(0.5)*fs/L[0], freq_est+(0.5)*fs/L[0], L[1])\n",
    "\n",
    "    return spectrum_offset_zoom, offset_zoom, freq_est"
   ]
  },
  {
   "cell_type": "code",
   "execution_count": 14,
   "id": "dd8aa53d",
   "metadata": {
    "scrolled": true
   },
   "outputs": [
    {
     "name": "stdout",
     "output_type": "stream",
     "text": [
      "Real frequency offset: 6415 Hz\n",
      "Calculated offset with Zoom FFT: 6414 Hz\n"
     ]
    },
    {
     "data": {
      "image/png": "[encoded data removed]",
      "text/plain": [
       "<Figure size 432x288 with 1 Axes>"
      ]
     },
     "metadata": {
      "needs_background": "light"
     },
     "output_type": "display_data"
    }
   ],
   "source": [
    "spectrum_offset_zoom, offset_zoom, freq_est_full = combined_baseband_offset(preamble_offset, fs, comb_L)\n",
    "   \n",
    "print(\"Real frequency offset: {:.0f} Hz\".format(offset))    \n",
    "print(\"Calculated offset with Zoom FFT: {:.0f} Hz\".format(offset_zoom))\n",
    "\n",
    "plt.plot(np.linspace(freq_est_full-(0.5)*fs/comb_L[0],freq_est_full+(0.5)*fs/comb_L[0], comb_L[0]), np.abs(spectrum_offset_zoom))\n",
    "plt.scatter([offset_zoom], [np.max(spectrum_offset_zoom)], c='r', label=\"Real Freq Offset\")\n",
    "plt.xlabel(\"Frequency (Hz)\")\n",
    "plt.ylabel(\"Amplitude of zoom FFT\")\n",
    "plt.title(\"Combined FFT + ZoomFFT for Preamble\")\n",
    "plt.legend()\n",
    "plt.show()"
   ]
  },
  {
   "cell_type": "markdown",
   "id": "66f86e6e",
   "metadata": {},
   "source": [
    "### Error Analysis and Execution Time\n",
    "\n",
    "Now we are interested in analyzing the accuracy of the two approaches and the execution time of both. We examine the \"amount of frequency\" that we miss in the CFO estimations and the error percentage compared to the actual CFO."
   ]
  },
  {
   "cell_type": "code",
   "execution_count": 19,
   "id": "7740f29d",
   "metadata": {
    "scrolled": false
   },
   "outputs": [
    {
     "name": "stdout",
     "output_type": "stream",
     "text": [
      "Average error full FFT: 30.1298783007762 Hz\n",
      "Average time full FFT:  0.5107283592224121 ms\n",
      "Average error zoom FFT: 2.2173653672885343 Hz\n",
      "Average time zoom FFT:  0.5660462379455566 ms\n",
      "\n",
      "Number of time zoom FFT was less accurate: 4 / 100 tests\n"
     ]
    }
   ],
   "source": [
    "error_full = 0\n",
    "error_zoom = 0\n",
    "\n",
    "time_full = 0\n",
    "time_zoom = 0\n",
    "\n",
    "comb_len = [500, 500]\n",
    "full_len = 8000\n",
    "\n",
    "num_full_better = 0\n",
    "\n",
    "tests = 100 # Do not change this parameter\n",
    "\n",
    "for i in range(tests):\n",
    "    \n",
    "    baseband, preamble = generate_baseband(N, fs, M)\n",
    "    baseband_offset, offset = generate_baseband_offset(baseband, fs)\n",
    "    preamble_offset = baseband_offset[0:200]\n",
    "    \n",
    "    # Full FFT\n",
    "    start_time = time.time()\n",
    "    spectrum_offset_full, offset_full = fft_baseband_offset(preamble_offset, fs, full_len)\n",
    "    new_time_full = time.time() - start_time\n",
    "    time_full += new_time_full\n",
    "    \n",
    "    # Zoom FFT\n",
    "    start_time = time.time()\n",
    "    spectrum_offset_zoom, offset_zoom, _ = combined_baseband_offset(preamble_offset, fs, comb_len)\n",
    "    new_time_zoom = time.time() - start_time\n",
    "    time_zoom += new_time_zoom\n",
    "    \n",
    "    # Errors\n",
    "    #new_error_full = np.abs((offset - offset_full)*100/(offset))\n",
    "    new_error_full = np.abs(offset - offset_full)\n",
    "    error_full += new_error_full\n",
    "    #new_error_zoom = np.abs((offset - offset_zoom)*100/(offset))\n",
    "    new_error_zoom = np.abs(offset - offset_zoom)\n",
    "    error_zoom += new_error_zoom\n",
    "    \n",
    "    if(new_error_full < new_error_zoom):\n",
    "        num_full_better +=1\n",
    "\n",
    "error_full /= tests\n",
    "time_full /= tests\n",
    "error_zoom /= tests\n",
    "time_zoom /= tests\n",
    "    \n",
    "print(\"Average error full FFT:\", error_full, \"Hz\")\n",
    "print(\"Average time full FFT: \", time_full*1000, \"ms\")\n",
    "print(\"Average error zoom FFT:\", error_zoom, \"Hz\")\n",
    "print(\"Average time zoom FFT: \", time_zoom*1000, \"ms\")\n",
    "print(\"\\nNumber of time zoom FFT was less accurate:\", num_full_better, \"/\", tests, \"tests\")"
   ]
  },
  {
   "cell_type": "markdown",
   "id": "fc09385c",
   "metadata": {},
   "source": [
    "As we see above, the execution time of both approaches is around 0.5 ms, but the Zoom FFT method outperforms the regular full FFT method in calculating the CFO. We ran a lot of tests and found that the Zoom FFT outperformed constantly the full FFT, but there is also space for a more robust evaluation of the execution time vs accuracy trade-offs in both methods."
   ]
  },
  {
   "cell_type": "markdown",
   "id": "dd2c1b0c",
   "metadata": {},
   "source": [
    "### Characterizing full FFT\n",
    "\n",
    "The following two sections are about characterizing the performance of both the full FFT and zoom FFT. We wanted to see if the execution time of the Zoom FFT increased in a similar way to the full FFT as the FFT window increased. Although there are some interesting insights on how both they perform, it is not too relevant to the project."
   ]
  },
  {
   "cell_type": "code",
   "execution_count": 32,
   "id": "0d13976f",
   "metadata": {
    "scrolled": false
   },
   "outputs": [
    {
     "data": {
      "image/png": "[encoded data removed]",
      "text/plain": [
       "<Figure size 432x288 with 1 Axes>"
      ]
     },
     "metadata": {
      "needs_background": "light"
     },
     "output_type": "display_data"
    }
   ],
   "source": [
    "full_len = 10\n",
    "tests = 1000\n",
    "timing = []\n",
    "lengths = []\n",
    "\n",
    "while (full_len < 10000):\n",
    "    time_full = 0\n",
    "    for i in range(tests):\n",
    "        # Full FFT\n",
    "        start_time = time.time()\n",
    "        spectrum_offset_full, offset_full = fft_baseband_offset(preamble_offset, fs, full_len)\n",
    "        new_time_full = time.time() - start_time\n",
    "        time_full += new_time_full\n",
    "\n",
    "    time_full /= tests\n",
    "    \n",
    "    timing.append(time_full)\n",
    "    lengths.append(full_len)\n",
    "    full_len += 50\n",
    "\n",
    "plt.scatter(lengths, timing)\n",
    "plt.title(\"Execution Time for full FFT\")\n",
    "plt.xlabel(\"Length of FFT\")\n",
    "plt.ylabel(\"Execution time (s)\")\n",
    "plt.show()"
   ]
  },
  {
   "cell_type": "markdown",
   "id": "e19597b5",
   "metadata": {},
   "source": [
    "### Characterizing combined Zoom + Full FFT"
   ]
  },
  {
   "cell_type": "code",
   "execution_count": 34,
   "id": "29e9c938",
   "metadata": {},
   "outputs": [],
   "source": [
    "comb_len = [10, 10]\n",
    "tests = 1000\n",
    "timing = []\n",
    "lengths_zoom = []\n",
    "lengths_full = []\n",
    "\n",
    "while (comb_len[0] < 5000 and comb_len[1] < 5000):\n",
    "    time_zoom = 0\n",
    "    for i in range(tests):\n",
    "        # Zoom FFT\n",
    "        start_time = time.time()\n",
    "        spectrum_offset_zoom, offset_zoom, _ = combined_baseband_offset(preamble_offset, fs, comb_len)\n",
    "        new_time_zoom = time.time() - start_time\n",
    "        time_zoom += new_time_zoom\n",
    "\n",
    "    time_zoom /= tests\n",
    "    \n",
    "    timing.append(time_zoom)\n",
    "    lengths_full.append(comb_len[0])\n",
    "    comb_len[0] += 50\n",
    "\n",
    "\n",
    "    \n",
    "timing = []\n",
    "comb_len = [10, 10]\n",
    "while (comb_len[0] < 5000 and comb_len[1] < 5000):\n",
    "    time_zoom = 0\n",
    "    for i in range(tests):\n",
    "        # Zoom FFT\n",
    "        start_time = time.time()\n",
    "        spectrum_offset_zoom, offset_zoom, _ = combined_baseband_offset(preamble_offset, fs, comb_len)\n",
    "        new_time_zoom = time.time() - start_time\n",
    "        time_zoom += new_time_zoom\n",
    "\n",
    "    time_zoom /= tests\n",
    "    \n",
    "    lengths_zoom.append(comb_len[1])\n",
    "    timing.append(time_zoom)\n",
    "    comb_len[1] += 50"
   ]
  },
  {
   "cell_type": "code",
   "execution_count": 33,
   "id": "d702ad74",
   "metadata": {},
   "outputs": [
    {
     "data": {
      "image/png": "[encoded data removed]",
      "text/plain": [
       "<Figure size 432x288 with 1 Axes>"
      ]
     },
     "metadata": {
      "needs_background": "light"
     },
     "output_type": "display_data"
    },
    {
     "data": {
      "image/png": "[encoded data removed]",
      "text/plain": [
       "<Figure size 432x288 with 1 Axes>"
      ]
     },
     "metadata": {
      "needs_background": "light"
     },
     "output_type": "display_data"
    }
   ],
   "source": [
    "plt.subplot(2,1,1)    \n",
    "plt.scatter(lengths_full, timing)\n",
    "plt.title(\"Execution Time for regular FFT in combined method\")\n",
    "plt.xlabel(\"Length of FFT\")\n",
    "plt.ylabel(\"Execution time (s)\")\n",
    "plt.show()\n",
    "plt.subplot(2,1,2)\n",
    "plt.scatter(lengths_zoom, timing)\n",
    "plt.title(\"Execution Time for zoom FFT in combined method\")\n",
    "plt.xlabel(\"Length of zoom FFT\")\n",
    "plt.ylabel(\"Execution time (s)\")\n",
    "plt.show()"
   ]
  },
  {
   "cell_type": "markdown",
   "id": "4a9d16d5",
   "metadata": {},
   "source": [
    "## Carrier Phase Offset (CPO) Estimation\n",
    "\n",
    "In Lab 08 we used a OOK preamble signal in order to estimate the phase offset in the channel. We sent a OOK preamble and measured the angle between the real and imaginary parts of the received signal. The new method for CPO estimation relies on QPSK preambles and it allows for constant evaluation of the phase offset."
   ]
  },
  {
   "cell_type": "markdown",
   "id": "570f2d7e",
   "metadata": {},
   "source": [
    "### General framework for phase detection\n",
    "\n",
    "The code below shows a generic example of how we can calculate the CPO for a QPSK preamble. The difference between the two methods lies in the computational efficiency of the approach. For Method #1, we need to take two arctan operations (computationally expensive), while Method #2 only requires simpler arithmetic computations."
   ]
  },
  {
   "cell_type": "code",
   "execution_count": 23,
   "id": "6a70b9a6",
   "metadata": {
    "scrolled": true
   },
   "outputs": [
    {
     "name": "stdout",
     "output_type": "stream",
     "text": [
      "Phase offset (°):    -16.82°\n",
      "Phase estimation #1:  -196.82°\n",
      "Phase estimation #2:  -16.82°\n"
     ]
    }
   ],
   "source": [
    "# Generate random QPSK symbol\n",
    "x = np.random.choice([-1, 1])*np.sqrt(2)/2\n",
    "y = np.random.choice([-1, 1])*np.sqrt(2)/2\n",
    "s = x + 1j*y\n",
    "\n",
    "# Generate random phase offset\n",
    "phase_offset = np.random.uniform(-np.pi, np.pi)\n",
    "print(\"Phase offset (°):    {:.2f}°\".format(phase_offset*180/np.pi))\n",
    "\n",
    "# Add phase offset\n",
    "s_offset = s*np.exp(1j*phase_offset)\n",
    "\n",
    "# First method for error estimation\n",
    "e_k = np.angle(s_offset) - np.arctan(np.sign(np.imag(s_offset))/np.sign(np.real(s_offset)))\n",
    "print(\"Phase estimation #1:  {:.2f}°\".format(e_k*180/np.pi))\n",
    "\n",
    "# Second method for error estimation\n",
    "e_k = (np.imag(s_offset)*np.sign(np.real(s_offset)) - np.real(s_offset)*np.sign(np.imag(s_offset)))*np.sqrt(2)/2\n",
    "print(\"Phase estimation #2:  {:.2f}°\".format(np.angle(1j*e_k + np.sqrt(1 - e_k**2))*180/np.pi))\n",
    "\n",
    "# Correct for phase offset\n",
    "s_corrected = s_offset*(1j*e_k + np.sqrt(1 - e_k**2))"
   ]
  },
  {
   "cell_type": "markdown",
   "id": "276a2505",
   "metadata": {},
   "source": [
    "### Ambiguity and CPO\n",
    "\n",
    "For QPSK, our phase offset detector has a pi/2 ambiguity. This means that when we correct our signal we might get a rotated version of our original symbols by 0, 90, 180 or 270 degrees. To compensate for the rotation, we can send a known preamble in order to figure out the rotation and compensate for it."
   ]
  },
  {
   "cell_type": "code",
   "execution_count": 181,
   "id": "2d3dd438",
   "metadata": {},
   "outputs": [],
   "source": [
    "# Estimates the CPO with a pi/2 ambiguity\n",
    "def cpo_estimation(preamble, known_preamble):\n",
    "    \n",
    "    e_k = (np.imag(preamble)*np.sign(np.real(preamble)) - np.real(preamble)*np.sign(np.imag(preamble)))*np.sqrt(2)/2\n",
    "    \n",
    "    e_k = np.arcsin(e_k)\n",
    "    \n",
    "    return np.mean(e_k)\n",
    "\n",
    "# Estimates the CPO with the rotation caused by the ambiguity\n",
    "def cpo_rotation_angle(preamble, known_preamble):\n",
    "    \n",
    "    e_k = cpo_estimation(preamble, known_preamble)\n",
    "    \n",
    "    preamble_corrected = preamble*np.exp(-1j*e_k)\n",
    "    \n",
    "    angle_rotation = np.mean(np.angle(preamble_corrected) - np.angle(known_preamble))\n",
    "    \n",
    "    return angle_rotation + e_k\n",
    "\n",
    "# Adjusts for CPO and rotation of given sequence with known preamble\n",
    "def cpo_rotate(sequence, preamble_length, known_preamble):\n",
    "    \n",
    "    angle = cpo_rotation_angle(sequence[0:preamble_length], known_preamble)\n",
    "    \n",
    "    sequence_corrected = sequence*np.exp(-1j*angle)\n",
    "    \n",
    "    return sequence_corrected"
   ]
  },
  {
   "cell_type": "markdown",
   "id": "588fcf4b",
   "metadata": {},
   "source": [
    "This code below does some testing on a randomly generated QPSK signal with a known preamble. It then confirms that we were able to get the signal back with the phase and ambiguity corrected."
   ]
  },
  {
   "cell_type": "code",
   "execution_count": 190,
   "id": "3ffcb255",
   "metadata": {},
   "outputs": [
    {
     "name": "stdout",
     "output_type": "stream",
     "text": [
      "Phase offset:                          157.93°\n",
      "Phase offset estimation:               157.93°\n",
      "Equality test after phase correction:  True\n"
     ]
    }
   ],
   "source": [
    "N = 10 # Length of signal\n",
    "x = np.random.choice([-1, 1], N)*np.sqrt(2)/2\n",
    "y = np.random.choice([-1, 1], N)*np.sqrt(2)/2\n",
    "payload = x + 1j*y\n",
    "preamble = [np.sqrt(2)/2 + 1j*np.sqrt(2)/2] # Known preamble\n",
    "packet = np.append(preamble, payload) # Add payload and preamble\n",
    "phase_offset = np.random.uniform(-np.pi, np.pi)\n",
    "packet_offset = packet*np.exp(1j*phase_offset)\n",
    "preamble_offset = packet_offset[0]\n",
    "\n",
    "print(\"Phase offset:                          {:.2f}°\".format(np.remainder(phase_offset*180/np.pi, 360)))\n",
    "print(\"Phase offset estimation:               {:.2f}°\".format(np.remainder(cpo_rotation_angle(preamble_offset, preamble)*180/np.pi, 360)))\n",
    "print(\"Equality test after phase correction:  {}\".format(np.isclose(cpo_rotate(packet_offset, 1, preamble), packet, 0.0001).all()))"
   ]
  },
  {
   "cell_type": "markdown",
   "id": "f599d3e3",
   "metadata": {},
   "source": [
    "## Preamble and Timing Offset: Zadoff-Chu Sequence"
   ]
  },
  {
   "cell_type": "markdown",
   "id": "dfad063d",
   "metadata": {},
   "source": [
    "### Generating the Zadoff-Chu sequence"
   ]
  },
  {
   "cell_type": "code",
   "execution_count": 15,
   "id": "9a8d8848",
   "metadata": {},
   "outputs": [],
   "source": [
    "# N: Length of ZC sequence\n",
    "# u: Less than N, coprime with N\n",
    "def generateZC(N, u):\n",
    "    n = np.linspace(0, N-1, N)\n",
    "\n",
    "    ZC = np.exp(-1j*np.pi*(n+1)*n*u/N)\n",
    "    \n",
    "    return ZC"
   ]
  },
  {
   "cell_type": "markdown",
   "id": "36fe5163",
   "metadata": {},
   "source": [
    "#### Zadoff-Chu properties\n",
    "\n",
    "As we can see below, ZC sequencues exhibit some interesting correlation properties. The auto correlation of a Zadoff–Chu sequence with a cyclically shifted version of itself is zero, i.e., it is non-zero only at one instant which corresponds to the cyclic shift. This property is useful for frame detection."
   ]
  },
  {
   "cell_type": "code",
   "execution_count": 206,
   "id": "7a868d47",
   "metadata": {},
   "outputs": [
    {
     "data": {
      "image/png": "[encoded data removed]",
      "text/plain": [
       "<Figure size 432x288 with 2 Axes>"
      ]
     },
     "metadata": {
      "needs_background": "light"
     },
     "output_type": "display_data"
    },
    {
     "data": {
      "image/png": "[encoded data removed]",
      "text/plain": [
       "<Figure size 432x288 with 1 Axes>"
      ]
     },
     "metadata": {
      "needs_background": "light"
     },
     "output_type": "display_data"
    }
   ],
   "source": [
    "ZC = generateZC(81, 10)\n",
    "    \n",
    "X = np.correlate(ZC, ZC, mode=\"full\")\n",
    "\n",
    "\n",
    "ax1 = plt.subplot(2,1,1)\n",
    "plt.plot(np.real(ZC))\n",
    "plt.title(\"Zadoff-Chu Sequence, Length 81\")\n",
    "ax2 = plt.subplot(2,1,2)\n",
    "plt.plot(np.imag(ZC))\n",
    "plt.show()\n",
    "\n",
    "plt.title(\"Correlation of Zadoff-Chu sequence\")\n",
    "plt.plot(np.real(X))\n",
    "plt.show()"
   ]
  },
  {
   "cell_type": "markdown",
   "id": "6fa990fe",
   "metadata": {},
   "source": [
    "### Comparing the ZC sequence with the regular OOK preamble\n",
    "\n",
    "In Lab 07 we studied frame detection using a OOK preamble. For the OOK preamble, we did a fft convolution between the entire data frame (payload and preamble) and return the point where the fft convolution is highest. That is the detected start frame. For the Zadoff-Chu sequence, we can do the correlation between the entire frame (payload and preamble) with the known ZC preamble. We want to compare the performance of the OOK preamble frame detection and QPSK frame detection compared to the ZC preamble detection."
   ]
  },
  {
   "cell_type": "markdown",
   "id": "f104ad5a",
   "metadata": {},
   "source": [
    "#### OOK Frame Detection"
   ]
  },
  {
   "cell_type": "code",
   "execution_count": 17,
   "id": "1a947d0b",
   "metadata": {},
   "outputs": [
    {
     "name": "stdout",
     "output_type": "stream",
     "text": [
      "Percentage of tests with frame start mismatch in OOK: 65.01%\n"
     ]
    }
   ],
   "source": [
    "def frame_sync(data_bb_ac, known_preamble_ac):\n",
    "        \n",
    "        matched_filter_coef = np.flip(known_preamble_ac, 0)\n",
    "        crosscorr = signal.fftconvolve(data_bb_ac, matched_filter_coef)\n",
    "\n",
    "        return crosscorr\n",
    "\n",
    "count = 0 # This counts the amount of errors\n",
    "\n",
    "for i in range(10000):\n",
    "    #preamble = np.random.choice([-1, 1], 10)*np.sqrt(2)/2\n",
    "    preamble = np.random.randint(0, 2, 10)\n",
    "\n",
    "    #payload = np.random.choice([-1, 1], 128)*np.sqrt(2)/2\n",
    "    payload = np.random.randint(0, 2, 128) \n",
    "    start_index = np.random.randint(0, 128)\n",
    "\n",
    "    final_payload = np.insert(payload, start_index, preamble)\n",
    "\n",
    "    crosscorr = frame_sync(final_payload, preamble)\n",
    "\n",
    "    peak = np.argmax(crosscorr) - len(preamble) + 1\n",
    "    \n",
    "    if (peak != start_index):\n",
    "        count += 1\n",
    "\n",
    "print(\"Percentage of tests with frame start mismatch in OOK: {}%\".format(count*100/10000))"
   ]
  },
  {
   "cell_type": "markdown",
   "id": "4076203d",
   "metadata": {},
   "source": [
    "#### QPSK Frame Detection"
   ]
  },
  {
   "cell_type": "code",
   "execution_count": 18,
   "id": "a0e0f447",
   "metadata": {},
   "outputs": [
    {
     "name": "stdout",
     "output_type": "stream",
     "text": [
      "Percentage of tests with frame start mismatch in QPSK: 5.94%\n"
     ]
    }
   ],
   "source": [
    "def frame_sync(data_bb_ac, known_preamble_ac):\n",
    "        \n",
    "        matched_filter_coef = np.flip(known_preamble_ac, 0)\n",
    "        crosscorr = signal.fftconvolve(data_bb_ac, matched_filter_coef)\n",
    "\n",
    "        return crosscorr\n",
    " \n",
    "count = 0 # This counts the amount of errors\n",
    "\n",
    "for i in range(10000):\n",
    "    preamble = np.random.choice([-1, 1], 10)*np.sqrt(2)/2\n",
    "    \n",
    "    payload = np.random.choice([-1, 1], 128)*np.sqrt(2)/2\n",
    "\n",
    "    start_index = np.random.randint(0, 128)\n",
    "\n",
    "    final_payload = np.insert(payload, start_index, preamble)\n",
    "\n",
    "    crosscorr = frame_sync(final_payload, preamble)\n",
    "\n",
    "    peak = np.argmax(crosscorr) - len(preamble) + 1 \n",
    "    \n",
    "    if (peak != start_index):\n",
    "        count += 1\n",
    "\n",
    "print(\"Percentage of tests with frame start mismatch in QPSK: {}%\".format(count*100/10000))"
   ]
  },
  {
   "cell_type": "code",
   "execution_count": 19,
   "id": "3e59c490",
   "metadata": {},
   "outputs": [
    {
     "name": "stderr",
     "output_type": "stream",
     "text": [
      "/home/dgarci23/.local/lib/python3.8/site-packages/numpy/lib/function_base.py:5287: ComplexWarning: Casting complex values to real discards the imaginary part\n",
      "  values = array(values, copy=False, ndmin=arr.ndim, dtype=arr.dtype)\n"
     ]
    },
    {
     "name": "stdout",
     "output_type": "stream",
     "text": [
      "Percentage of tests with frame start mismatch in ZC: 0.0%\n"
     ]
    }
   ],
   "source": [
    "def frame_sync(data_bb_ac, known_preamble_ac):\n",
    "        \n",
    "        crosscorr = np.correlate(data_bb_ac, known_preamble_ac, mode=\"full\")\n",
    "        \n",
    "        return crosscorr\n",
    "\n",
    "count = 0\n",
    "\n",
    "frequency_offset = np.random.uniform(-0.01*fs,0.01*fs)\n",
    "Ts = 1/fs\n",
    "t =  np.arange(0,len(baseband)*Ts,41593)\n",
    "nonideal_term = np.exp(1j*2*np.pi*frequency_offset*t)\n",
    "\n",
    "for i in range(10000):    \n",
    "    N = 10\n",
    "    u = 7\n",
    "\n",
    "    n = np.linspace(0, N-1, N)\n",
    "\n",
    "    preamble = np.exp(-1j*np.pi*(n+1)*n*u/N)\n",
    "\n",
    "    payload = np.random.choice([-1, 1], 128)*np.sqrt(2)/2\n",
    "\n",
    "    start_index = np.random.randint(0, 128)\n",
    "\n",
    "    final_payload = np.multiply(np.insert(payload, start_index, preamble), nonideal_term)\n",
    "\n",
    "    crosscorr = frame_sync(final_payload, preamble)\n",
    "\n",
    "    peak = np.argmax(np.real(crosscorr)) - len(preamble) + 1 \n",
    "\n",
    "    if (peak != start_index):\n",
    "        count += 1\n",
    "        \n",
    "print(\"Percentage of tests with frame start mismatch in ZC: {}%\".format(count*100/10000))"
   ]
  },
  {
   "cell_type": "markdown",
   "id": "4333bf90",
   "metadata": {},
   "source": [
    "As we can see, for a preamble of only 10 symbols, we do not get any errors for the Zadoff-Chu sequence as the preamble, while we get 65% of tests with a missmatch for OOK and around 6% for QPSK preambles. We recognize that errors might occur if continued testing is done, we have runned the previous script multiple times and we haven't had any errors yet."
   ]
  },
  {
   "cell_type": "markdown",
   "id": "7be633cc",
   "metadata": {},
   "source": [
    "## Combining Zadoff-Chu with CFO and CPO estimation\n",
    "\n",
    "The system below is an example of how to combine the ZC sequence for frame detection with CFO and CPO estimation. We tried to use our current methods for CPO and CFO estimation with the Zadoff-Chu sequence but we were ultimately unsuccessful. Our system uses a simple QPSK configuration preamble (sent at the start of the tranmission to match the two PLLs) and then use the Zadoff-Chu sequence for frame detection once the PLLs are matched. \n",
    "\n",
    "There are some limitations in this design. We recognize that the best solution would be to use the ZC sequence for the phase and frequency offset. In the current state, there needs to be some synchronization between the transmitter and the receiver for the system to match the two PLLs. We believe that although this limitation exists, it is still an improvement over the system developed in lab. Once the PLL matching is done (which we have also improved), the ZC sequence provides really good performance for the frame start detection (we haven't detected any errors yet). If the PLLs phase and frequency stays relatively constant over time after the first matching is done, our system is way more reliable than other systems with similar preamble length designed with OOK or even QPSK.\n",
    "\n",
    "![Full system](images/FullSystem.png)"
   ]
  },
  {
   "cell_type": "code",
   "execution_count": null,
   "id": "fc53ccfb",
   "metadata": {},
   "outputs": [],
   "source": [
    "# Creates a frequency and phase offset\n",
    "def generate_offset(baseband, fs=fs):\n",
    "    # Generate the frequency offset\n",
    "    frequency_offset = np.random.uniform(-0.01*fs,0.01*fs)\n",
    "    # Generate the phase offset\n",
    "    phase_offset = np.random.uniform(-np.pi, np.pi)\n",
    "    Ts = 1/fs\n",
    "    t =  np.arange(0,len(baseband)*Ts,Ts)\n",
    "    nonideal_term = np.exp(1j*(2*np.pi*frequency_offset*t + phase_offset))\n",
    "    baseband_with_frequency_offset = np.multiply(baseband,nonideal_term)\n",
    "    \n",
    "    return baseband_with_frequency_offset, frequency_offset, phase_offset\n",
    "\n",
    "# Frame start correlation\n",
    "def frame_sync(data_bb_ac, known_preamble_ac):\n",
    "        \n",
    "        crosscorr = np.correlate(data_bb_ac, known_preamble_ac, mode=\"full\")\n",
    "        \n",
    "        return crosscorr"
   ]
  },
  {
   "cell_type": "code",
   "execution_count": null,
   "id": "30610ebf",
   "metadata": {},
   "outputs": [],
   "source": [
    "ZC = generateZC(10, 1) # Generate a ZC sequence of length 10\n",
    "preamble = ZC\n",
    "\n",
    "payload = (np.random.choice([1, -1], 300) + 1j*np.random.choice([1, -1], 300))*np.sqrt(2)/2 # Payload\n",
    "\n",
    "config = np.array(20*[1 + 1j])/np.sqrt(2) # Configuration preamble for phase and frequency offset\n",
    "\n",
    "# Create the packet by placing configuration preamble at the start, and then insert the preamble in the payload\n",
    "start_index = np.random.randint(0, 128) \n",
    "packet = np.insert(payload, start_index, preamble)\n",
    "packet = np.append(config, packet)\n",
    "\n",
    "packet_mod = pulse_shaping.pulse_shaping(packet, M, fs, \"rect\", None, None) # Modulate the packet\n",
    "packet_mod_offset, freq_offset, phase_offset = generate_offset(packet_mod, fs=fs) # Frequency and phase offset\n",
    "\n",
    "# Compensate for frequency offset\n",
    "packet_zoom, freq_offset_est, _ = combined_baseband_offset(packet_mod_offset[0:10], fs, [500, 500])\n",
    "Ts = 1/fs\n",
    "t = np.arange(0,len(packet_mod)*Ts,Ts)\n",
    "Digital_LO = np.exp(1j*(-2*np.pi*freq_offset_est*t))\n",
    "packet_freq_corrected = np.multiply(packet_mod_offset,Digital_LO)\n",
    "\n",
    "# Compensate for phase offset\n",
    "phase_offset_est = cpo_rotation_angle(packet_freq_corrected[0:10], config[0:10])\n",
    "packet_corrected = packet_freq_corrected*np.exp(-1j*phase_offset_est)\n",
    "\n",
    "# Demodulate\n",
    "packet_demod = packet_corrected[::M]\n",
    "\n",
    "# Frame start detection\n",
    "crosscorr = frame_sync(packet_demod, ZC)\n",
    "peak = np.argmax(np.real(crosscorr)) - len(ZC) + 1 - len(config)"
   ]
  },
  {
   "cell_type": "code",
   "execution_count": 233,
   "id": "36151ca8",
   "metadata": {},
   "outputs": [
    {
     "name": "stdout",
     "output_type": "stream",
     "text": [
      "Frame start errors: 0\n",
      "Frequency offset estimation errors: 0\n",
      "Phase offset estimation errors: 125\n",
      "Packets with errors: 0\n"
     ]
    }
   ],
   "source": [
    "# Count the amount of errors\n",
    "count_frame = 0\n",
    "count_phase = 0\n",
    "count_freq = 0\n",
    "count_demod = 0\n",
    "    \n",
    "for i in range(1000):\n",
    "    ZC = generateZC(10, 1) # Generate a ZC sequence of length 10\n",
    "    preamble = ZC\n",
    "    \n",
    "    payload = (np.random.choice([1, -1], 300) + 1j*np.random.choice([1, -1], 300))*np.sqrt(2)/2 # Payload\n",
    "    \n",
    "    config = np.array(20*[1 + 1j])/np.sqrt(2) # Configuration preamble for phase and frequency offset\n",
    "    \n",
    "    # Create the packet by placing configuration preamble at the start, and then insert the preamble in the payload\n",
    "    start_index = np.random.randint(0, 200) \n",
    "    packet = np.insert(payload, start_index, preamble)\n",
    "    packet = np.append(config, packet)\n",
    "\n",
    "    packet_mod = pulse_shaping.pulse_shaping(packet, M, fs, \"rect\", None, None) # Modulate the packet\n",
    "    packet_mod_offset, freq_offset, phase_offset = generate_offset(packet_mod, fs=fs) # Frequency and phase offset\n",
    "\n",
    "    # Compensate for frequency offset\n",
    "    packet_zoom, freq_offset_est, _ = combined_baseband_offset(packet_mod_offset[0:10], fs, [500, 500])\n",
    "    Ts = 1/fs\n",
    "    t = np.arange(0,len(packet_mod)*Ts,Ts)\n",
    "    Digital_LO = np.exp(1j*(-2*np.pi*freq_offset_est*t))\n",
    "    packet_freq_corrected = np.multiply(packet_mod_offset,Digital_LO)\n",
    "\n",
    "    # Compensate for phase offset\n",
    "    phase_offset_est = cpo_rotation_angle(packet_freq_corrected[0:10], config[0:10])\n",
    "    packet_corrected = packet_freq_corrected*np.exp(-1j*phase_offset_est)\n",
    "\n",
    "    # Demodulate\n",
    "    packet_demod = packet_corrected[::M]\n",
    "    \n",
    "    # Frame start detection\n",
    "    crosscorr = frame_sync(packet_demod, ZC)\n",
    "    peak = np.argmax(np.real(crosscorr)) - len(ZC) + 1 - len(config)\n",
    "\n",
    "    # Error checking\n",
    "    if (not(np.isclose(phase_offset,phase_offset_est,rtol=0.1))):\n",
    "        count_phase += 1\n",
    "    if not(np.isclose(freq_offset,freq_offset_est,rtol=50)):\n",
    "        count_freq += 1\n",
    "    if (peak!=start_index):\n",
    "        count_frame += 1\n",
    "    if not(np.isclose(packet_demod[peak+10:],packet[peak+10:],rtol=0.1).all()):\n",
    "        count_demod += 1\n",
    "\n",
    "print(\"Frame start errors:\", count_frame)\n",
    "print(\"Frequency offset estimation errors:\", count_freq)\n",
    "print(\"Phase offset estimation errors:\", count_phase)\n",
    "print(\"Packets with errors:\", count_demod)"
   ]
  },
  {
   "cell_type": "markdown",
   "id": "e255b658",
   "metadata": {},
   "source": [
    "As we can see above, for the 1000 test we ran, we always detected the start of the frame correctly. We were also able to recover the original payload without any errors for all the tests."
   ]
  },
  {
   "cell_type": "markdown",
   "id": "65014b22",
   "metadata": {},
   "source": [
    "### Appendix"
   ]
  },
  {
   "cell_type": "markdown",
   "id": "b93efe75",
   "metadata": {},
   "source": [
    "### Storing data for Error and Execution Time"
   ]
  },
  {
   "cell_type": "code",
   "execution_count": 9,
   "id": "1a25e06b",
   "metadata": {},
   "outputs": [],
   "source": [
    "def store_data(data):\n",
    "    with open(\"data.mem\", \"a\") as file:\n",
    "        data_text = \" \".join([str(i) for i in data]) + \"\\n\"\n",
    "        file.write(data_text)\n",
    "        \n",
    "def read_data():\n",
    "    with open(\"data.mem\", \"r\") as file:\n",
    "        data = file.readline()"
   ]
  }
 ],
 "metadata": {
  "kernelspec": {
   "display_name": "Python 3 (ipykernel)",
   "language": "python",
   "name": "python3"
  },
  "language_info": {
   "codemirror_mode": {
    "name": "ipython",
    "version": 3
   },
   "file_extension": ".py",
   "mimetype": "text/x-python",
   "name": "python",
   "nbconvert_exporter": "python",
   "pygments_lexer": "ipython3",
   "version": "3.8.10"
  }
 },
 "nbformat": 4,
 "nbformat_minor": 5
}
